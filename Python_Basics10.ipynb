{
  "metadata": {
    "language_info": {
      "codemirror_mode": {
        "name": "python",
        "version": 3
      },
      "file_extension": ".py",
      "mimetype": "text/x-python",
      "name": "python",
      "nbconvert_exporter": "python",
      "pygments_lexer": "ipython3",
      "version": "3.8"
    },
    "kernelspec": {
      "name": "python",
      "display_name": "Python (Pyodide)",
      "language": "python"
    }
  },
  "nbformat_minor": 4,
  "nbformat": 4,
  "cells": [
    {
      "cell_type": "code",
      "source": "a = 10",
      "metadata": {
        "trusted": true
      },
      "execution_count": 5,
      "outputs": []
    },
    {
      "cell_type": "code",
      "source": "print(type(a))",
      "metadata": {
        "trusted": true
      },
      "execution_count": 6,
      "outputs": [
        {
          "name": "stdout",
          "text": "<class 'int'>\n",
          "output_type": "stream"
        }
      ]
    },
    {
      "cell_type": "code",
      "source": "print(type(\"pwskills\"))",
      "metadata": {
        "trusted": true
      },
      "execution_count": 7,
      "outputs": [
        {
          "name": "stdout",
          "text": "<class 'str'>\n",
          "output_type": "stream"
        }
      ]
    },
    {
      "cell_type": "code",
      "source": "class test :",
      "metadata": {
        "trusted": true
      },
      "execution_count": 8,
      "outputs": [
        {
          "ename": "<class 'IndentationError'>",
          "evalue": "expected an indented block after class definition on line 1 (<ipython-input-8-aa65f70bfd2e>, line 1)",
          "traceback": [
            "\u001b[0;36m  Cell \u001b[0;32mIn[8], line 1\u001b[0;36m\u001b[0m\n\u001b[0;31m    class test :\u001b[0m\n\u001b[0m                ^\u001b[0m\n\u001b[0;31mIndentationError\u001b[0m\u001b[0;31m:\u001b[0m expected an indented block after class definition on line 1\n"
          ],
          "output_type": "error"
        }
      ]
    },
    {
      "cell_type": "code",
      "source": "class test :\n    pass",
      "metadata": {
        "trusted": true
      },
      "execution_count": 9,
      "outputs": []
    },
    {
      "cell_type": "code",
      "source": "a = test()",
      "metadata": {
        "trusted": true
      },
      "execution_count": 10,
      "outputs": []
    },
    {
      "cell_type": "code",
      "source": "type(a)",
      "metadata": {
        "trusted": true
      },
      "execution_count": 11,
      "outputs": [
        {
          "execution_count": 11,
          "output_type": "execute_result",
          "data": {
            "text/plain": "__main__.test"
          },
          "metadata": {}
        }
      ]
    },
    {
      "cell_type": "code",
      "source": "print(type(a))",
      "metadata": {
        "trusted": true
      },
      "execution_count": 12,
      "outputs": [
        {
          "name": "stdout",
          "text": "<class '__main__.test'>\n",
          "output_type": "stream"
        }
      ]
    },
    {
      "cell_type": "code",
      "source": "class pwskills :\n    def welcome_students() :\n        print(\"welcome to pwskills\")",
      "metadata": {
        "trusted": true
      },
      "execution_count": 13,
      "outputs": []
    },
    {
      "cell_type": "code",
      "source": "print(type(pwskills))",
      "metadata": {
        "trusted": true
      },
      "execution_count": 14,
      "outputs": [
        {
          "name": "stdout",
          "text": "<class 'type'>\n",
          "output_type": "stream"
        }
      ]
    },
    {
      "cell_type": "code",
      "source": "rohan =pwskills()",
      "metadata": {
        "trusted": true
      },
      "execution_count": 15,
      "outputs": []
    },
    {
      "cell_type": "code",
      "source": "print(type(rohan))",
      "metadata": {
        "trusted": true
      },
      "execution_count": 16,
      "outputs": [
        {
          "name": "stdout",
          "text": "<class '__main__.pwskills'>\n",
          "output_type": "stream"
        }
      ]
    },
    {
      "cell_type": "code",
      "source": "rohan.welcome_students()\n\nHere this will give error because there is no self agument given in welcome_students() in pwskills class",
      "metadata": {
        "trusted": true
      },
      "execution_count": 18,
      "outputs": [
        {
          "ename": "<class 'TypeError'>",
          "evalue": "pwskills.welcome_students() takes 0 positional arguments but 1 was given",
          "traceback": [
            "\u001b[0;31m---------------------------------------------------------------------------\u001b[0m",
            "\u001b[0;31mTypeError\u001b[0m                                 Traceback (most recent call last)",
            "Cell \u001b[0;32mIn[18], line 1\u001b[0m\n\u001b[0;32m----> 1\u001b[0m \u001b[43mrohan\u001b[49m\u001b[38;5;241;43m.\u001b[39;49m\u001b[43mwelcome_students\u001b[49m\u001b[43m(\u001b[49m\u001b[43m)\u001b[49m\n\u001b[1;32m      3\u001b[0m \u001b[38;5;66;03m# Here this will give error because there is no self agument given in welcome_students() in pwskills class\u001b[39;00m\n",
            "\u001b[0;31mTypeError\u001b[0m: pwskills.welcome_students() takes 0 positional arguments but 1 was given"
          ],
          "output_type": "error"
        }
      ]
    },
    {
      "cell_type": "code",
      "source": "class pwskills :\n    def welcome_students(self) :\n        print(\"welcome to pwskills\")",
      "metadata": {
        "trusted": true
      },
      "execution_count": 19,
      "outputs": []
    },
    {
      "cell_type": "code",
      "source": "gaurav = pwskills()",
      "metadata": {
        "trusted": true
      },
      "execution_count": 23,
      "outputs": []
    },
    {
      "cell_type": "code",
      "source": "gaurav.welcome_students()",
      "metadata": {
        "trusted": true
      },
      "execution_count": 24,
      "outputs": [
        {
          "name": "stdout",
          "text": "welcome to pwskills\n",
          "output_type": "stream"
        }
      ]
    },
    {
      "cell_type": "code",
      "source": "The __init__() method is used to take user input in the class",
      "metadata": {
        "trusted": true
      },
      "execution_count": 25,
      "outputs": []
    },
    {
      "cell_type": "code",
      "source": "# Taking user inputs in class using __init__() method:\n\nclass pwskills1 :\n    \n    def __init__(self , phone_number , email_id , student_id ) :\n        self.phone_number = phone_number\n        self.email_id     = email_id\n        self.student_id   = student_id\n    \n    def print_user_input() :\n        return self.phone_number , self.email_id , self.student_id",
      "metadata": {
        "trusted": true
      },
      "execution_count": 26,
      "outputs": []
    },
    {
      "cell_type": "code",
      "source": "rohan = pwskills1()\n\nThis will give error because we have not given any arguments in function call as user input",
      "metadata": {
        "trusted": true
      },
      "execution_count": 28,
      "outputs": [
        {
          "ename": "<class 'TypeError'>",
          "evalue": "pwskills1.__init__() missing 3 required positional arguments: 'phone_number', 'email_id', and 'student_id'",
          "traceback": [
            "\u001b[0;31m---------------------------------------------------------------------------\u001b[0m",
            "\u001b[0;31mTypeError\u001b[0m                                 Traceback (most recent call last)",
            "Cell \u001b[0;32mIn[28], line 1\u001b[0m\n\u001b[0;32m----> 1\u001b[0m rohan \u001b[38;5;241m=\u001b[39m \u001b[43mpwskills1\u001b[49m\u001b[43m(\u001b[49m\u001b[43m)\u001b[49m\n\u001b[1;32m      3\u001b[0m \u001b[38;5;66;03m# This will give error because we have not given any arguments in function call as user input\u001b[39;00m\n",
            "\u001b[0;31mTypeError\u001b[0m: pwskills1.__init__() missing 3 required positional arguments: 'phone_number', 'email_id', and 'student_id'"
          ],
          "output_type": "error"
        }
      ]
    },
    {
      "cell_type": "code",
      "source": "rohan = pwskills1(9881754648 , \"vishalmali@gmail.com\" , \"vishal081201\")",
      "metadata": {
        "trusted": true
      },
      "execution_count": 30,
      "outputs": []
    },
    {
      "cell_type": "code",
      "source": "rohan.print_user_input()\n\nbecause self is not given as argument in print_user_name , it is always mandatory that functions defined in the class should have arguments as self always",
      "metadata": {
        "trusted": true
      },
      "execution_count": 32,
      "outputs": [
        {
          "ename": "<class 'TypeError'>",
          "evalue": "pwskills1.print_user_input() takes 0 positional arguments but 1 was given",
          "traceback": [
            "\u001b[0;31m---------------------------------------------------------------------------\u001b[0m",
            "\u001b[0;31mTypeError\u001b[0m                                 Traceback (most recent call last)",
            "Cell \u001b[0;32mIn[32], line 1\u001b[0m\n\u001b[0;32m----> 1\u001b[0m \u001b[43mrohan\u001b[49m\u001b[38;5;241;43m.\u001b[39;49m\u001b[43mprint_user_input\u001b[49m\u001b[43m(\u001b[49m\u001b[43m)\u001b[49m\n\u001b[1;32m      3\u001b[0m \u001b[38;5;66;03m# because self is not given as argument in print_user_name , it is always mandatory that functions defined in the class should have arguments as self always\u001b[39;00m\n",
            "\u001b[0;31mTypeError\u001b[0m: pwskills1.print_user_input() takes 0 positional arguments but 1 was given"
          ],
          "output_type": "error"
        }
      ]
    },
    {
      "cell_type": "code",
      "source": "class pwskills1 :\n    \n    def __init__(self , phone_number , email_id , student_id ) :\n        self.phone_number = phone_number\n        self.email_id     = email_id\n        self.student_id   = student_id\n    \n    def print_user_input(self) :\n        return self.phone_number , self.email_id , self.student_id",
      "metadata": {
        "trusted": true
      },
      "execution_count": 40,
      "outputs": []
    },
    {
      "cell_type": "code",
      "source": "rohan = pwskills1(9881754648 , \"vishalmali@gmail.com\" , \"vishal081201\")",
      "metadata": {
        "trusted": true
      },
      "execution_count": 41,
      "outputs": []
    },
    {
      "cell_type": "code",
      "source": "rohan.print_user_input()",
      "metadata": {
        "trusted": true
      },
      "execution_count": 42,
      "outputs": [
        {
          "execution_count": 42,
          "output_type": "execute_result",
          "data": {
            "text/plain": "(9881754648, 'vishalmali@gmail.com', 'vishal081201')"
          },
          "metadata": {}
        }
      ]
    },
    {
      "cell_type": "code",
      "source": "# self is just an arguments we can name it anything\n\nclass pwskills2 :\n    \n    def __init__(sudh , phone_number , email_id , student_id ) :\n        sudh.phone_number1 = phone_number\n        sudh.email_id     = email_id\n        sudh.student_id   = student_id\n    \n    def print_user_input(shrey) :\n        return shrey.phone_number1 , shrey.email_id , shrey.student_id",
      "metadata": {
        "trusted": true
      },
      "execution_count": 61,
      "outputs": []
    },
    {
      "cell_type": "code",
      "source": "sudh = pwskills2(9881754648, 'vishalmali@gmail.com', 'vishal081201')",
      "metadata": {
        "trusted": true
      },
      "execution_count": 62,
      "outputs": []
    },
    {
      "cell_type": "code",
      "source": "print(type(sudh))",
      "metadata": {
        "trusted": true
      },
      "execution_count": 63,
      "outputs": [
        {
          "name": "stdout",
          "text": "<class '__main__.pwskills2'>\n",
          "output_type": "stream"
        }
      ]
    },
    {
      "cell_type": "code",
      "source": "sudh.print_user_input()",
      "metadata": {
        "trusted": true
      },
      "execution_count": 64,
      "outputs": [
        {
          "execution_count": 64,
          "output_type": "execute_result",
          "data": {
            "text/plain": "(9881754648, 'vishalmali@gmail.com', 'vishal081201')"
          },
          "metadata": {}
        }
      ]
    },
    {
      "cell_type": "code",
      "source": "sudh.phone_number",
      "metadata": {
        "trusted": true
      },
      "execution_count": 65,
      "outputs": [
        {
          "ename": "<class 'AttributeError'>",
          "evalue": "'pwskills2' object has no attribute 'phone_number'",
          "traceback": [
            "\u001b[0;31m---------------------------------------------------------------------------\u001b[0m",
            "\u001b[0;31mAttributeError\u001b[0m                            Traceback (most recent call last)",
            "Cell \u001b[0;32mIn[65], line 1\u001b[0m\n\u001b[0;32m----> 1\u001b[0m \u001b[43msudh\u001b[49m\u001b[38;5;241;43m.\u001b[39;49m\u001b[43mphone_number\u001b[49m\n",
            "\u001b[0;31mAttributeError\u001b[0m: 'pwskills2' object has no attribute 'phone_number'"
          ],
          "output_type": "error"
        }
      ]
    },
    {
      "cell_type": "code",
      "source": "sudh.phone_number1",
      "metadata": {
        "trusted": true
      },
      "execution_count": 66,
      "outputs": [
        {
          "execution_count": 66,
          "output_type": "execute_result",
          "data": {
            "text/plain": "9881754648"
          },
          "metadata": {}
        }
      ]
    },
    {
      "cell_type": "code",
      "source": "From this above two cells 57 and 58 , we came to know that the the left hand side is accessed by the object of class\n\nEx. \n \n       # self.number_input = number\n       # self.name_input = name\n    \nHere we have to access the value using left side variables\n\n        print(self.number_input , self.name_input)\n        \n              OR\n        \n        return self.number_input , self.name_input",
      "metadata": {
        "trusted": true
      },
      "execution_count": 70,
      "outputs": []
    },
    {
      "cell_type": "code",
      "source": "sudh.email_id",
      "metadata": {
        "trusted": true
      },
      "execution_count": 71,
      "outputs": [
        {
          "execution_count": 71,
          "output_type": "execute_result",
          "data": {
            "text/plain": "'vishalmali@gmail.com'"
          },
          "metadata": {}
        }
      ]
    },
    {
      "cell_type": "code",
      "source": "",
      "metadata": {},
      "execution_count": null,
      "outputs": []
    }
  ]
}